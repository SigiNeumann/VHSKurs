{
 "cells": [
  {
   "cell_type": "markdown",
   "metadata": {},
   "source": [
    "### Vergleichsoperatoren\n",
    "Vergleichsoperatoren liefern als Ergebnis immer den Datentyp _bool_.  \n",
    "Sagen also ob etwas Wahr oder Falsch ist. \n",
    "\n",
    "__==__ Ist gleich? "
   ]
  },
  {
   "cell_type": "code",
   "execution_count": 1,
   "metadata": {},
   "outputs": [
    {
     "name": "stdout",
     "output_type": "stream",
     "text": [
      "True\n",
      "False\n"
     ]
    }
   ],
   "source": [
    "a = 5+2\n",
    "b = 3+4\n",
    "print(a==b)\n",
    "c = \"Bufo\"\n",
    "d = \"Bife\"\n",
    "print(c==d)\n"
   ]
  },
  {
   "cell_type": "markdown",
   "metadata": {},
   "source": [
    "__!=__ ungleich "
   ]
  },
  {
   "cell_type": "code",
   "execution_count": null,
   "metadata": {},
   "outputs": [],
   "source": [
    "a = 5+2\n",
    "b = 3+4\n",
    "print(a!=b)\n",
    "c = \"Bufo\"\n",
    "d = \"Bife\"\n",
    "print(c!=d)\n",
    "\n"
   ]
  },
  {
   "cell_type": "markdown",
   "metadata": {},
   "source": [
    "< kleiner \n",
    "> größer"
   ]
  },
  {
   "cell_type": "code",
   "execution_count": null,
   "metadata": {},
   "outputs": [],
   "source": [
    "print(4+3 > 6)\n",
    "print(4+3 < 6)\n",
    "print(-5 < 1-7)\n",
    "print(-5 > 1-7)"
   ]
  },
  {
   "cell_type": "markdown",
   "metadata": {},
   "source": [
    "<= kleiner oder gleich\n",
    ">= größer  oder gleich"
   ]
  },
  {
   "cell_type": "code",
   "execution_count": null,
   "metadata": {},
   "outputs": [],
   "source": [
    "print(4+2 >= 6)\n",
    "print(4+2 <= 6)\n",
    "print(-5 <= 1)\n",
    "print(-5 >= 1)"
   ]
  },
  {
   "cell_type": "markdown",
   "metadata": {},
   "source": [
    "### Verzweigungen\n",
    "__if__ (wenn), kann man als \"wenn dann\" lesen\n",
    "\n",
    "Syntax:\n",
    "if _BEDIENGUNG_(bool):  \n",
    "&nbsp;&nbsp;&nbsp;&nbsp;Einrückung"
   ]
  },
  {
   "cell_type": "code",
   "execution_count": null,
   "metadata": {},
   "outputs": [],
   "source": [
    "def ist_gerade(zahl:int)->bool:\n",
    "    '''Überprüft ob ein Zahl gerade d.h. ganzahlig durch 2 teilbar ist'''\n",
    "    if (zahl%2)==0:\n",
    "        print(str(zahl)+ \" ist gerade\")\n",
    "        return True # hier verlassen wir die Funktion mit return\n",
    "    print(str(zahl)+ \" ist ungerade\")\n",
    "    return False\n",
    "\n",
    "sieben = ist_gerade(7)\n",
    "print(sieben)\n",
    "zwanzig_zwanzig = ist_gerade(2020)\n",
    "print(zwanzig_zwanzig)\n"
   ]
  },
  {
   "cell_type": "markdown",
   "metadata": {},
   "source": [
    "__else__ (sonst, ansonsten)  \n",
    "Kann nur nach einem __if__ kommen  \n",
    "Wenn es am Wochenende schön ist, dann fahre ich mit Finja in den Zoo  \n",
    "Ansonsten ist werde ich mal den Keller aufräumen   \n",
    "Den Kurs für nächste Woche muss ich aber auf jeden Fall vorbereiten  \n",
    "\n",
    "Syntax:  \n",
    "if _BEDIENGUNG_(bool):  \n",
    "&nbsp;&nbsp;&nbsp;&nbsp;Einrückung  \n",
    "else:  \n",
    "&nbsp;&nbsp;&nbsp;&nbsp;Einrückung \n",
    "\n",
    "\n"
   ]
  },
  {
   "cell_type": "code",
   "execution_count": 5,
   "metadata": {},
   "outputs": [],
   "source": [
    "def zoo_gehen():\n",
    "    print(\"Wir gehen in den Zoo!\")\n",
    "def keller_aufraeumen():\n",
    "    print(\"grummel, keller aufraeumen\")\n",
    "def kurs_vorbereiten():\n",
    "    print(\"Kurs... if, else , elif\")\n",
    "\n",
    "def wochenende(ist_schoen:bool)->None:\n",
    "    if(ist_schoen):#Wenn es schön ist dann\n",
    "        zoo_gehen()\n",
    "    else:# sonst\n",
    "        keller_aufraeumen()\n",
    "    kurs_vorbereiten()"
   ]
  },
  {
   "cell_type": "code",
   "execution_count": 6,
   "metadata": {},
   "outputs": [
    {
     "name": "stdout",
     "output_type": "stream",
     "text": [
      "grummel, keller aufraeumen\n",
      "Kurs... if, else , elif\n"
     ]
    }
   ],
   "source": [
    "wochenende(ist_schoen=False)"
   ]
  },
  {
   "cell_type": "code",
   "execution_count": null,
   "metadata": {},
   "outputs": [],
   "source": [
    "wochenende(ist_schoen=True)"
   ]
  },
  {
   "cell_type": "markdown",
   "metadata": {},
   "source": [
    "__elif__ (oder wenn )  \n",
    "Kommt nach einem __if__ und __kann__ vor einem __else__ kommen. Nimmt wie __if__ eine Bediengung.  \n",
    "Wichtig das _else_ ist optional.  \n",
    "Ein Kinofilm ist freigegeben ab 12 Jahre oder wenn ein Elternteil dabei ist und das Kind mindestens 6 ist  \n",
    "\n",
    "Entscheide ob ein Kind den Film schauen darf und schreibe es auf die Konsole\n"
   ]
  },
  {
   "cell_type": "code",
   "execution_count": null,
   "metadata": {},
   "outputs": [],
   "source": [
    "def darf_schauen(alter:int, in_begleitung:bool)->bool:\n",
    "    if(alter>12):#Älter als 12\n",
    "        return True:\n",
    "    elif(alter>6):#Älter als 6\n",
    "        if(in_begleitung):\n",
    "            return True\n",
    "        else:\n",
    "            return False\n",
    "    else:#Kleiner 6\n",
    "        return False\n"
   ]
  },
  {
   "cell_type": "markdown",
   "metadata": {},
   "source": [
    "Am Montag arbeite ich daheim  \n",
    "Dienstag holt Oma die Kleine  \n",
    "Mittwochabend ist Kurs  \n",
    "Donnerstag fahren wir einkaufen \n",
    "Freitag bis Sonntag hab ich frei \n"
   ]
  },
  {
   "cell_type": "code",
   "execution_count": null,
   "metadata": {},
   "outputs": [],
   "source": [
    "def was_ist_zu_tun(wochentag:str):\n",
    "    if wochentag == \"Montag\":\n",
    "        print(\"Daheim arbeiten\")\n",
    "    elif wochentag == \"Dienstag\":\n",
    "        print(\"Oma holt Kind aus Kita\")\n",
    "    elif wochentag == \"Mittwoch\":\n",
    "        print(\"VHS\")\n",
    "    elif wochentag == \"Donnerstag\":\n",
    "        print(\"Einkaufen\")\n",
    "    else:\n",
    "        print(\"Frei\")"
   ]
  },
  {
   "cell_type": "markdown",
   "metadata": {},
   "source": [
    "### Zusammangesetzte Bedingungen \n",
    "__not__, __and__, __or__  \n",
    "Mit and(und) or(oder) können Bedingungen kombiniert werden. Bei den beiden Werten muss es sich aber jeweils auf um Bedingunge bzw. Bools handeln. \n",
    "__not__ negieret eine Bedingung  "
   ]
  },
  {
   "cell_type": "code",
   "execution_count": 7,
   "metadata": {},
   "outputs": [],
   "source": [
    "def groesser_zehn_kleiner_hundert(zahl:int)->bool:\n",
    "    if zahl>10 and zahl<100:\n",
    "        return True\n",
    "    else:\n",
    "        return False\n",
    "\n",
    "def durch_drei_oder_fuenf_teilbar(zahl:int)->bool:\n",
    "    if zahl%3==0 or zahl%5==0:\n",
    "        return True\n",
    "    else:\n",
    "        return False\n",
    "\n",
    "def nicht_durch_vier_teilbar(zahl:int)->bool:\n",
    "    if not zahl%4==0:\n",
    "        return False\n",
    "    else:\n",
    "        return True\n",
    "\n"
   ]
  },
  {
   "cell_type": "code",
   "execution_count": null,
   "metadata": {},
   "outputs": [],
   "source": []
  }
 ],
 "metadata": {
  "kernelspec": {
   "display_name": "Python 3",
   "language": "python",
   "name": "python3"
  },
  "language_info": {
   "codemirror_mode": {
    "name": "ipython",
    "version": 3
   },
   "file_extension": ".py",
   "mimetype": "text/x-python",
   "name": "python",
   "nbconvert_exporter": "python",
   "pygments_lexer": "ipython3",
   "version": "3.8.2"
  }
 },
 "nbformat": 4,
 "nbformat_minor": 2
}
