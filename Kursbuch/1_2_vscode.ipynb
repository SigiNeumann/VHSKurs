{
 "cells": [
  {
   "cell_type": "markdown",
   "metadata": {},
   "source": [
    "# Visual Studio Code\n",
    "Visual Studio Code (VS Code) ist eine IDE (Integrated Development Enviroment) bzw. ein TextEditor der zur Programmierung verwendet werden kann.\n",
    "Ausser VS Code gibt es noch viele weitere Texteditoren und IDEs z.B. Sublime, Vim, Emacs, PyCharm, Eclipse usw.\n",
    "Grunsätzlich würde ein simpler Texteditor wie z.B. Notepad aussreichen. IDEs kommen jedoch mit einer vielzahl von Erweiterungen die uns das Leben einfacher machen.\n",
    "\n",
    "### ActitiviyBar\n",
    "Links am Rand \n",
    "Explorer (AktenSymbol):  \n",
    "Hier können die Ordner und Dateien im aktuellen Arbeitsbereich angesehen und geöffnet werden.  \n",
    "Arbeitsbereich ist der Ordner der mit vscode geöffnet wurde.  \n",
    "\n",
    "### Suchen & Finden(LupenSymbol):  \n",
    "Hier kann nach Text in allen Dateien des Arbeitsbereich gesucht werden.\n",
    "\n",
    "### SourceConrol (AbzweiungsSymbol):\n",
    "SourceConrolIntegration z.b. git-  Hier werden wir bei Gelegenheit noch genauer reinschauen.\n",
    "\n",
    "### Erweiterungen (Bausteinsymbol):  \n",
    "Erweiterungen können über das Bausteinsymbol installiert werden für diesen Kurs benötigen wir das Python Plugin von Microsoft. Erweiterungen enthalten nützliche Komponenten für diverse Programmiersprachen, Dateiformate und alles andere was Entwickler so brauchen.  \n",
    "\n",
    "\n",
    "Debugging(Pfeil und Käfersymbol):  \n",
    "Hier können wir unsere Programme starten und debuggen. Debuggen nennt man den Vorgang durch ein Program Schritt für Schritt durchzugehen und sich dabei die Innereien anzuschauen. Machen wir jetzt gleich mal.    \n",
    "Datei erstellen:  \n",
    "<kbd>Strg</kbd> + N (Neues File)  \n",
    "<kbd>Strg</kbd> + S (Speichert File)  \n",
    "Dateien die Pythoncode oder Programme enthalten werden üblicherweise mit der Endung .py gespeichert z.b. mein_testfile.py  \n",
    "\n",
    "<kbd>Strg</kbd> + <kbd>Strg</kbd> + P (Neues File)   \n",
    "Eingabe \"Debug\"  \n",
    "Auswahl \"Select and Start Debugging\" Enter  \n",
    "Auswahl \"Add Configuration\" Auswahl \"Python: File\"  \n",
    "\n",
    "Nun kann man wenn man im Editor ein (Python)File ausgewählt hat mittels <kbd>F5</kbd> das debuggen starten.  Probieren wir das doch gleich mal...\n",
    "\n",
    "\n",
    "\n",
    "\n",
    "\n",
    "\n",
    "\n"
   ]
  },
  {
   "cell_type": "markdown",
   "metadata": {},
   "source": [
    "### Python (Files) starten\n",
    "VSCode legt uns eine launch.json Datei an. Diese ist nur für VsCode gültig.  \n",
    "Im vorherigen Beispiel haben wir eine Konfiguration für das debuggen angelegt. Wenn wir uns die Datei anschauen und sehen was VsCode drausmacht verstehen wir auch wie wir eine Datei starten können.  \n",
    "Mit dem Befehl __python__ starten wir im Terminal Python. Ohne Argumente wir einfach ein LiveSession gestartet.\n",
    "Eine intergriertes Terminal finden wir unten. An einen solchen Befehl im \n",
    "\n",
    "Relative und Absoulute Pfade:\n",
    "Python akzeptiert auch sogennannte __relative__ Pfad. Ein __absoluter__ Pfad ist der gesamte Pfad \n",
    "z.b. C:\\Users\\Tina\\Dokumente\\testfile.py oder bei mir /home/sigi/Dokumente/kurs/testfile.py . Das ist aber etwas umständlich.  \n",
    "Im Gegensatz hierzu ist ein relativer Pfad immer ausgehend vom aktuellen Ordner. Ein Terminal wird immer in einen bestimmten Ordner geöffnet, diese nennt man WorkingDirectory (Arbeitsbereich). VsCode öffnet sein Terminal immer in seinen aktuellen Arbeitsbereich. Das heißt wenn wir direkt in dem Ordner eine Datei anlegen (testfile.py) können wir dies mittels:  \n",
    "python testfile.py  \n",
    "Direkt ausführen... Probieren wir gleich\n",
    "\n",
    "\n",
    "\n",
    "\n"
   ]
  },
  {
   "cell_type": "markdown",
   "metadata": {},
   "source": [
    "\"configurations\": [\n",
    "        {\n",
    "            \"name\": \"Python: Modul\",\n",
    "            \"type\": \"python\",\n",
    "            \"request\": \"launch\",\n",
    "            \"module\": \"Bufo\"\n",
    "        },\n",
    "        {\n",
    "            \"name\": \"Python: Aktuelle Datei\",\n",
    "            \"type\": \"python\",\n",
    "            \"request\": \"launch\",\n",
    "            \"program\": \"${file}\",\n",
    "            \"console\": \"integratedTerminal\"\n",
    "        },\n",
    "        {\n",
    "            \"name\": \"Python: Bestimmte Datei\",\n",
    "            \"type\": \"python\",\n",
    "            \"request\": \"launch\",\n",
    "            \"program\": \"${{workspaceFolder}/basics.py\",\n",
    "            \"console\": \"integratedTerminal\"\n",
    "        }\n",
    "    ]"
   ]
  }
 ],
 "metadata": {
  "kernelspec": {
   "display_name": "Python 3",
   "language": "python",
   "name": "python3"
  },
  "language_info": {
   "codemirror_mode": {
    "name": "ipython",
    "version": 3
   },
   "file_extension": ".py",
   "mimetype": "text/x-python",
   "name": "python",
   "nbconvert_exporter": "python",
   "pygments_lexer": "ipython3",
   "version": "3.8.2"
  }
 },
 "nbformat": 4,
 "nbformat_minor": 2
}
