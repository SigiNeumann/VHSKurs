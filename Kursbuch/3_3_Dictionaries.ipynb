{
 "cells": [
  {
   "source": [
    "### Assoziative Arrays (Datenbeschreibungsverzeichnis, Diktionär) __Dictionary__\n",
    "Dictionaries sind Kollektionen(wie Listen) mit einem wichtigen Unterschied, anstatt eines Index wird mit einem Schlüssel auf die Elemente zugegriffen. Anstatt der [] eckigen Klammern verwendet man zur __initalisierung__ des Dictionary {} geschwungene Klammer.\n",
    "__Wichtig__ Schlüssel müssen eindeutig sein und dürfen nur 1 mal vorkommen!  \n",
    "Zum Zugriff auf Element (mittels Schlüssel) verwendet man weiterhin eckige Klammern [].\n",
    "\n",
    "__Initalisierung__\n",
    "Innerhalb der {} geschwungenen Klammern werden Element mit , getrennt, jedes Element besteht aus Schlüssel und Wert getrennt durch __:__ . {wert:schlüssel}\n",
    "\n",
    "Zuweisung können auch mittel [] Klammern erfolgen, die Besonderheit im Gegensatz zu Listen ist, das wenn ein Schlüssel noch nicht vorhanden ist er angelegt wird, wenn schon vorhanden wird er überschrieben.\n",
    "Alternativ kann auch __update()__ zum anlegen oder überschreiben verwendet werden ,wobei __update__() auch für mehrere Werte verwendet werden kann. \n",
    "\n",
    "Auch der __in__ Operator kann verwendet werden um zu überprüfen ob ein Schlüssel im Dictionary vorhanden ist.\n"
   ],
   "cell_type": "markdown",
   "metadata": {}
  },
  {
   "cell_type": "code",
   "execution_count": 21,
   "metadata": {},
   "outputs": [
    {
     "output_type": "stream",
     "name": "stdout",
     "text": [
      "08652/54321\n089/78901234\n{'Vorname': 'Florian', 'Nachname': 'Irgendwer', 'Telefonnummer': '08654/123456', 'Alter': 36}\nChristian gibts schon\n"
     ]
    }
   ],
   "source": [
    "leeres_dict = {}\n",
    "telefonnummern = {\"Sigi\":\"08652/54321\",\"Flo\":\"08654/123456\",\"Andi\":\"089/78901234\"}\n",
    "sigis_nummer = telefonnummern[\"Sigi\"]\n",
    "print(sigis_nummer)\n",
    "# Schlüssel bzw. müssen keine strings sein und können jeden Datentypen haben\n",
    "schwierigkeit = {1:\"leicht\",2:\"mittel\",3:\"schwer\"}\n",
    "# Werte können auch wieder Dictionaries sein \n",
    "leute = {\"Sigi\":{\"Vorname\":\"Sigi\",\"Nachname\":\"Neumann\",\"Telefonnummer\":\"08652/54321\",\"Alter\":37},\n",
    "         \"Flo\" :{\"Vorname\":\"Florian\",\"Nachname\":\"Irgendwer\",\"Telefonnummer\":\"08654/123456\",\"Alter\":36},\n",
    "         \"Andi\" :{\"Vorname\":\"Andi\",\"Nachname\":\"Kenntma\",\"Telefonnummer\":\"089/78901234\",\"Alter\":38}\n",
    "        }\n",
    "andis_nummer = leute[\"Andi\"][\"Telefonnummer\"]\n",
    "print(andis_nummer)\n",
    "flo = leute[\"Flo\"]\n",
    "print(flo)\n",
    "leute[\"Flo\"] = {\"Vorname\":\"Florian\",\"Nachname\":\"Weranders\",\"Telefonnummer\":\"08651/0815\",\"Alter\":33} #Überschreiben\n",
    "leute[\"Christian\"] = {\"Vorname\":\"Christian\",\"Nachname\":\"Woanders\",\"Telefonnummer\":\"08652/00921\",\"Alter\":39}#Neuanlegen\n",
    "\n",
    "if \"Christian\" in leute:\n",
    "    print(\"Christian gibts schon\")\n",
    "    leute[\"Christian2\"] = {\"Vorname\":\"Christian\",\"Nachname\":\"Dumdidi\",\"Telefonnummer\":\"086/56735\",\"Alter\":39}#Neuanlegen\n",
    "#Alternative update()\n",
    "leute.update(\"Michi\" :{\"Vorname\":\"Michi\",\"Nachname\":\"derandere\",\"Telefonnummer\":\"0123/456789\",\"Alter\":38})\n",
    "\n",
    "\n",
    "\n"
   ]
  },
  {
   "cell_type": "code",
   "execution_count": null,
   "metadata": {},
   "outputs": [],
   "source": [
    "Iteration über Dictionaries\n",
    "Wird ein Dictionary in einer for schleife verwendet (iteriert), steht als \n"
   ]
  },
  {
   "cell_type": "code",
   "execution_count": 10,
   "metadata": {},
   "outputs": [
    {
     "output_type": "stream",
     "name": "stdout",
     "text": [
      "Schluessel: Sigi\nWert: 08652/54321\nSchluessel: Flo\nWert: 08654/123456\nSchluessel: Andi\nWert: 089/78901234\nSchluessel: Sigi\nSchluessel: Flo\nSchluessel: Andi\nWert: 08652/54321\nWert: 08654/123456\nWert: 089/78901234\n"
     ]
    }
   ],
   "source": [
    "for schluessel,wert in telefonnummern.items(): #Paare Schluessel , Wert\n",
    "    print(f\"Schluessel: {schluessel}\")\n",
    "    print(f\"Wert: {wert}\")\n",
    "for schluessel in telefonnummern: #Default nur Schluessel\n",
    "    print(f\"Schluessel: {schluessel}\" )\n",
    "for wert in telefonnummern.values():\n",
    "    print(f\"Wert: {wert}\")\n",
    "for schluessel in telefonnummern.keys(): #Nur Schlüssel geht auch so\n",
    "    print(f\"Schluessel: {schluessel}\")\n",
    "    "
   ]
  },
  {
   "cell_type": "code",
   "execution_count": 20,
   "metadata": {},
   "outputs": [
    {
     "output_type": "error",
     "ename": "KeyError",
     "evalue": "'popitem(): dictionary is empty'",
     "traceback": [
      "\u001b[0;31m---------------------------------------------------------------------------\u001b[0m",
      "\u001b[0;31mKeyError\u001b[0m                                  Traceback (most recent call last)",
      "\u001b[0;32m<ipython-input-20-c6aaf2df0aa6>\u001b[0m in \u001b[0;36m<module>\u001b[0;34m\u001b[0m\n\u001b[0;32m----> 1\u001b[0;31m \u001b[0mtelefonnummern\u001b[0m\u001b[0;34m.\u001b[0m\u001b[0mpopitem\u001b[0m\u001b[0;34m(\u001b[0m\u001b[0;34m)\u001b[0m\u001b[0;34m\u001b[0m\u001b[0;34m\u001b[0m\u001b[0m\n\u001b[0m",
      "\u001b[0;31mKeyError\u001b[0m: 'popitem(): dictionary is empty'"
     ]
    }
   ],
   "source": [
    "Entfernen von Elementen.\n",
    "Zum Entfernen von Element gibt es keine remove() Methode. Als Methoden stehen zur Verfügung:\n",
    "* pop()\n",
    "* popitem()\n",
    "__pop__ kann als Parameter ein Schlüssel übergeben werden. Damit erhält man das betreffende Element und löscht es gleichzeitig aus dem Dictionary.  \n",
    "Ein weiteren Parameter den man pop übergeben kann ist __default__ hiermit kann.  \n",
    "__popitem() nimmt keine Parameter es ist hier wird das zuletzt hinzugefügte Element entfernt.\n",
    "\n",
    "\n",
    "\n",
    "Weiterhin gibt es das Schlüsselwort __del__ hiermit kann \n",
    "#TODO Dictonaries fertig machen\n",
    "#Dann Übungen dazu\n",
    "#Dann Hangman erweitern\n",
    "\n"
   ]
  },
  {
   "cell_type": "code",
   "execution_count": 8,
   "metadata": {},
   "outputs": [
    {
     "output_type": "stream",
     "name": "stdout",
     "text": [
      "{'Volkswagen': 50.0, 'Telekom': 140.0, 'SNTechnologies': 236.0}\n{'Volkswagen': 50.0, 'SNTechnologies': 236.0}\n{'Volkswagen': 50.0, 'SNTechnologies': 236.0, 'Telekom': 139.0, 'Siemens': 23.0}\n"
     ]
    },
    {
     "output_type": "execute_result",
     "data": {
      "text/plain": [
       "0"
      ]
     },
     "metadata": {},
     "execution_count": 8
    }
   ],
   "source": [
    "aktien = {\"Volkswagen\":50.0,\"Telekom\":140.0,\"SNTechnologies\":236.0}\n",
    "print(aktien)\n",
    "aktien.pop(\"Telekom\")\n",
    "print(aktien)\n",
    "aktien.update({\"Telekom\":139.0,\"Siemens\":23.0})\n",
    "print(aktien)\n",
    "aktien.pop( \"Adidas\",0)#mit default Wert\n"
   ]
  },
  {
   "cell_type": "code",
   "execution_count": 17,
   "metadata": {},
   "outputs": [
    {
     "output_type": "stream",
     "name": "stdout",
     "text": [
      "{'Flo': '08654/123456', 'Andi': '089/78901234'}\n"
     ]
    }
   ],
   "source": [
    "del telefonnummern[\"Sigi\"]\n",
    "print(telefonnummern)"
   ]
  },
  {
   "cell_type": "code",
   "execution_count": null,
   "metadata": {},
   "outputs": [],
   "source": [
    "Viele Komponenten in Python haben ein __dict__ dazu gehören Programm, Module sowie Klassen\n",
    "\n"
   ]
  },
  {
   "cell_type": "code",
   "execution_count": 2,
   "metadata": {
    "tags": [
     "outputPrepend"
    ]
   },
   "outputs": [
    {
     "output_type": "stream",
     "name": "stdout",
     "text": [
      "sugar.constants' from '/home/sigi/Dokumente/kurs/kursvenv/lib/python3.8/site-packages/zmq/sugar/constants.py'>,\n",
      "             'zmq.sugar.context': <module 'zmq.sugar.context' from '/home/sigi/Dokumente/kurs/kursvenv/lib/python3.8/site-packages/zmq/sugar/context.py'>,\n",
      "             'zmq.sugar.frame': <module 'zmq.sugar.frame' from '/home/sigi/Dokumente/kurs/kursvenv/lib/python3.8/site-packages/zmq/sugar/frame.py'>,\n",
      "             'zmq.sugar.poll': <module 'zmq.sugar.poll' from '/home/sigi/Dokumente/kurs/kursvenv/lib/python3.8/site-packages/zmq/sugar/poll.py'>,\n",
      "             'zmq.sugar.socket': <module 'zmq.sugar.socket' from '/home/sigi/Dokumente/kurs/kursvenv/lib/python3.8/site-packages/zmq/sugar/socket.py'>,\n",
      "             'zmq.sugar.stopwatch': <module 'zmq.sugar.stopwatch' from '/home/sigi/Dokumente/kurs/kursvenv/lib/python3.8/site-packages/zmq/sugar/stopwatch.py'>,\n",
      "             'zmq.sugar.tracker': <module 'zmq.sugar.tracker' from '/home/sigi/Dokumente/kurs/kursvenv/lib/python3.8/site-packages/zmq/sugar/tracker.py'>,\n",
      "             'zmq.sugar.version': <module 'zmq.sugar.version' from '/home/sigi/Dokumente/kurs/kursvenv/lib/python3.8/site-packages/zmq/sugar/version.py'>,\n",
      "             'zmq.utils': <module 'zmq.utils' from '/home/sigi/Dokumente/kurs/kursvenv/lib/python3.8/site-packages/zmq/utils/__init__.py'>,\n",
      "             'zmq.utils.constant_names': <module 'zmq.utils.constant_names' from '/home/sigi/Dokumente/kurs/kursvenv/lib/python3.8/site-packages/zmq/utils/constant_names.py'>,\n",
      "             'zmq.utils.garbage': <module 'zmq.utils.garbage' from '/home/sigi/Dokumente/kurs/kursvenv/lib/python3.8/site-packages/zmq/utils/garbage.py'>,\n",
      "             'zmq.utils.jsonapi': <module 'zmq.utils.jsonapi' from '/home/sigi/Dokumente/kurs/kursvenv/lib/python3.8/site-packages/zmq/utils/jsonapi.py'>,\n",
      "             'zmq.utils.strtypes': <module 'zmq.utils.strtypes' from '/home/sigi/Dokumente/kurs/kursvenv/lib/python3.8/site-packages/zmq/utils/strtypes.py'>},\n",
      " 'path': ['/home/sigi/Dokumente/kurs/Kursbuch',\n",
      "          '/home/sigi/.vscode/extensions/ms-toolsai.jupyter-2020.12.414227025/pythonFiles',\n",
      "          '/home/sigi/.vscode/extensions/ms-toolsai.jupyter-2020.12.414227025/pythonFiles/lib/python',\n",
      "          '/usr/lib/python38.zip',\n",
      "          '/usr/lib/python3.8',\n",
      "          '/usr/lib/python3.8/lib-dynload',\n",
      "          '',\n",
      "          '/home/sigi/Dokumente/kurs/kursvenv/lib/python3.8/site-packages',\n",
      "          '/home/sigi/Dokumente/kurs/kursvenv/lib/python3.8/site-packages/IPython/extensions',\n",
      "          '/home/sigi/.ipython'],\n",
      " 'path_hooks': [<class 'zipimport.zipimporter'>,\n",
      "                <function FileFinder.path_hook.<locals>.path_hook_for_FileFinder at 0x7fa6072271f0>],\n",
      " 'path_importer_cache': {'/home/sigi/.ipython': FileFinder('/home/sigi/.ipython'),\n",
      "                         '/home/sigi/.ipython/extensions': FileFinder('/home/sigi/.ipython/extensions'),\n",
      "                         '/home/sigi/.vscode/extensions/ms-toolsai.jupyter-2020.12.414227025/pythonFiles': FileFinder('/home/sigi/.vscode/extensions/ms-toolsai.jupyter-2020.12.414227025/pythonFiles'),\n",
      "                         '/home/sigi/.vscode/extensions/ms-toolsai.jupyter-2020.12.414227025/pythonFiles/lib/python': FileFinder('/home/sigi/.vscode/extensions/ms-toolsai.jupyter-2020.12.414227025/pythonFiles/lib/python'),\n",
      "                         '/home/sigi/Dokumente/kurs/Kursbuch': FileFinder('/home/sigi/Dokumente/kurs/Kursbuch'),\n",
      "                         '/home/sigi/Dokumente/kurs/kursvenv/lib/python3.8/site-packages': FileFinder('/home/sigi/Dokumente/kurs/kursvenv/lib/python3.8/site-packages'),\n",
      "                         '/home/sigi/Dokumente/kurs/kursvenv/lib/python3.8/site-packages/IPython': FileFinder('/home/sigi/Dokumente/kurs/kursvenv/lib/python3.8/site-packages/IPython'),\n",
      "                         '/home/sigi/Dokumente/kurs/kursvenv/lib/python3.8/site-packages/IPython/core': FileFinder('/home/sigi/Dokumente/kurs/kursvenv/lib/python3.8/site-packages/IPython/core'),\n",
      "                         '/home/sigi/Dokumente/kurs/kursvenv/lib/python3.8/site-packages/IPython/core/magics': FileFinder('/home/sigi/Dokumente/kurs/kursvenv/lib/python3.8/site-packages/IPython/core/magics'),\n",
      "                         '/home/sigi/Dokumente/kurs/kursvenv/lib/python3.8/site-packages/IPython/extensions': FileFinder('/home/sigi/Dokumente/kurs/kursvenv/lib/python3.8/site-packages/IPython/extensions'),\n",
      "                         '/home/sigi/Dokumente/kurs/kursvenv/lib/python3.8/site-packages/IPython/lib': FileFinder('/home/sigi/Dokumente/kurs/kursvenv/lib/python3.8/site-packages/IPython/lib'),\n",
      "                         '/home/sigi/Dokumente/kurs/kursvenv/lib/python3.8/site-packages/IPython/terminal': FileFinder('/home/sigi/Dokumente/kurs/kursvenv/lib/python3.8/site-packages/IPython/terminal'),\n",
      "                         '/home/sigi/Dokumente/kurs/kursvenv/lib/python3.8/site-packages/IPython/testing': FileFinder('/home/sigi/Dokumente/kurs/kursvenv/lib/python3.8/site-packages/IPython/testing'),\n",
      "                         '/home/sigi/Dokumente/kurs/kursvenv/lib/python3.8/site-packages/IPython/utils': FileFinder('/home/sigi/Dokumente/kurs/kursvenv/lib/python3.8/site-packages/IPython/utils'),\n",
      "                         '/home/sigi/Dokumente/kurs/kursvenv/lib/python3.8/site-packages/backcall': FileFinder('/home/sigi/Dokumente/kurs/kursvenv/lib/python3.8/site-packages/backcall'),\n",
      "                         '/home/sigi/Dokumente/kurs/kursvenv/lib/python3.8/site-packages/dateutil': FileFinder('/home/sigi/Dokumente/kurs/kursvenv/lib/python3.8/site-packages/dateutil'),\n",
      "                         '/home/sigi/Dokumente/kurs/kursvenv/lib/python3.8/site-packages/dateutil/parser': FileFinder('/home/sigi/Dokumente/kurs/kursvenv/lib/python3.8/site-packages/dateutil/parser'),\n",
      "                         '/home/sigi/Dokumente/kurs/kursvenv/lib/python3.8/site-packages/dateutil/tz': FileFinder('/home/sigi/Dokumente/kurs/kursvenv/lib/python3.8/site-packages/dateutil/tz'),\n",
      "                         '/home/sigi/Dokumente/kurs/kursvenv/lib/python3.8/site-packages/ipykernel': FileFinder('/home/sigi/Dokumente/kurs/kursvenv/lib/python3.8/site-packages/ipykernel'),\n",
      "                         '/home/sigi/Dokumente/kurs/kursvenv/lib/python3.8/site-packages/ipykernel/comm': FileFinder('/home/sigi/Dokumente/kurs/kursvenv/lib/python3.8/site-packages/ipykernel/comm'),\n",
      "                         '/home/sigi/Dokumente/kurs/kursvenv/lib/python3.8/site-packages/ipython_genutils': FileFinder('/home/sigi/Dokumente/kurs/kursvenv/lib/python3.8/site-packages/ipython_genutils'),\n",
      "                         '/home/sigi/Dokumente/kurs/kursvenv/lib/python3.8/site-packages/jedi': FileFinder('/home/sigi/Dokumente/kurs/kursvenv/lib/python3.8/site-packages/jedi'),\n",
      "                         '/home/sigi/Dokumente/kurs/kursvenv/lib/python3.8/site-packages/jedi/api': FileFinder('/home/sigi/Dokumente/kurs/kursvenv/lib/python3.8/site-packages/jedi/api'),\n",
      "                         '/home/sigi/Dokumente/kurs/kursvenv/lib/python3.8/site-packages/jedi/api/refactoring': FileFinder('/home/sigi/Dokumente/kurs/kursvenv/lib/python3.8/site-packages/jedi/api/refactoring'),\n",
      "                         '/home/sigi/Dokumente/kurs/kursvenv/lib/python3.8/site-packages/jedi/inference': FileFinder('/home/sigi/Dokumente/kurs/kursvenv/lib/python3.8/site-packages/jedi/inference'),\n",
      "                         '/home/sigi/Dokumente/kurs/kursvenv/lib/python3.8/site-packages/jedi/inference/compiled': FileFinder('/home/sigi/Dokumente/kurs/kursvenv/lib/python3.8/site-packages/jedi/inference/compiled'),\n",
      "                         '/home/sigi/Dokumente/kurs/kursvenv/lib/python3.8/site-packages/jedi/inference/compiled/subprocess': FileFinder('/home/sigi/Dokumente/kurs/kursvenv/lib/python3.8/site-packages/jedi/inference/compiled/subprocess'),\n",
      "                         '/home/sigi/Dokumente/kurs/kursvenv/lib/python3.8/site-packages/jedi/inference/gradual': FileFinder('/home/sigi/Dokumente/kurs/kursvenv/lib/python3.8/site-packages/jedi/inference/gradual'),\n",
      "                         '/home/sigi/Dokumente/kurs/kursvenv/lib/python3.8/site-packages/jedi/inference/value': FileFinder('/home/sigi/Dokumente/kurs/kursvenv/lib/python3.8/site-packages/jedi/inference/value'),\n",
      "                         '/home/sigi/Dokumente/kurs/kursvenv/lib/python3.8/site-packages/jedi/plugins': FileFinder('/home/sigi/Dokumente/kurs/kursvenv/lib/python3.8/site-packages/jedi/plugins'),\n",
      "                         '/home/sigi/Dokumente/kurs/kursvenv/lib/python3.8/site-packages/jupyter_client': FileFinder('/home/sigi/Dokumente/kurs/kursvenv/lib/python3.8/site-packages/jupyter_client'),\n",
      "                         '/home/sigi/Dokumente/kurs/kursvenv/lib/python3.8/site-packages/jupyter_client/asynchronous': FileFinder('/home/sigi/Dokumente/kurs/kursvenv/lib/python3.8/site-packages/jupyter_client/asynchronous'),\n",
      "                         '/home/sigi/Dokumente/kurs/kursvenv/lib/python3.8/site-packages/jupyter_client/blocking': FileFinder('/home/sigi/Dokumente/kurs/kursvenv/lib/python3.8/site-packages/jupyter_client/blocking'),\n",
      "                         '/home/sigi/Dokumente/kurs/kursvenv/lib/python3.8/site-packages/jupyter_core': FileFinder('/home/sigi/Dokumente/kurs/kursvenv/lib/python3.8/site-packages/jupyter_core'),\n",
      "                         '/home/sigi/Dokumente/kurs/kursvenv/lib/python3.8/site-packages/parso': FileFinder('/home/sigi/Dokumente/kurs/kursvenv/lib/python3.8/site-packages/parso'),\n",
      "                         '/home/sigi/Dokumente/kurs/kursvenv/lib/python3.8/site-packages/parso/pgen2': FileFinder('/home/sigi/Dokumente/kurs/kursvenv/lib/python3.8/site-packages/parso/pgen2'),\n",
      "                         '/home/sigi/Dokumente/kurs/kursvenv/lib/python3.8/site-packages/parso/python': FileFinder('/home/sigi/Dokumente/kurs/kursvenv/lib/python3.8/site-packages/parso/python'),\n",
      "                         '/home/sigi/Dokumente/kurs/kursvenv/lib/python3.8/site-packages/pexpect': FileFinder('/home/sigi/Dokumente/kurs/kursvenv/lib/python3.8/site-packages/pexpect'),\n",
      "                         '/home/sigi/Dokumente/kurs/kursvenv/lib/python3.8/site-packages/prompt_toolkit': FileFinder('/home/sigi/Dokumente/kurs/kursvenv/lib/python3.8/site-packages/prompt_toolkit'),\n",
      "                         '/home/sigi/Dokumente/kurs/kursvenv/lib/python3.8/site-packages/prompt_toolkit/application': FileFinder('/home/sigi/Dokumente/kurs/kursvenv/lib/python3.8/site-packages/prompt_toolkit/application'),\n",
      "                         '/home/sigi/Dokumente/kurs/kursvenv/lib/python3.8/site-packages/prompt_toolkit/clipboard': FileFinder('/home/sigi/Dokumente/kurs/kursvenv/lib/python3.8/site-packages/prompt_toolkit/clipboard'),\n",
      "                         '/home/sigi/Dokumente/kurs/kursvenv/lib/python3.8/site-packages/prompt_toolkit/completion': FileFinder('/home/sigi/Dokumente/kurs/kursvenv/lib/python3.8/site-packages/prompt_toolkit/completion'),\n",
      "                         '/home/sigi/Dokumente/kurs/kursvenv/lib/python3.8/site-packages/prompt_toolkit/eventloop': FileFinder('/home/sigi/Dokumente/kurs/kursvenv/lib/python3.8/site-packages/prompt_toolkit/eventloop'),\n",
      "                         '/home/sigi/Dokumente/kurs/kursvenv/lib/python3.8/site-packages/prompt_toolkit/filters': FileFinder('/home/sigi/Dokumente/kurs/kursvenv/lib/python3.8/site-packages/prompt_toolkit/filters'),\n",
      "                         '/home/sigi/Dokumente/kurs/kursvenv/lib/python3.8/site-packages/prompt_toolkit/formatted_text': FileFinder('/home/sigi/Dokumente/kurs/kursvenv/lib/python3.8/site-packages/prompt_toolkit/formatted_text'),\n",
      "                         '/home/sigi/Dokumente/kurs/kursvenv/lib/python3.8/site-packages/prompt_toolkit/input': FileFinder('/home/sigi/Dokumente/kurs/kursvenv/lib/python3.8/site-packages/prompt_toolkit/input'),\n",
      "                         '/home/sigi/Dokumente/kurs/kursvenv/lib/python3.8/site-packages/prompt_toolkit/key_binding': FileFinder('/home/sigi/Dokumente/kurs/kursvenv/lib/python3.8/site-packages/prompt_toolkit/key_binding'),\n",
      "                         '/home/sigi/Dokumente/kurs/kursvenv/lib/python3.8/site-packages/prompt_toolkit/key_binding/bindings': FileFinder('/home/sigi/Dokumente/kurs/kursvenv/lib/python3.8/site-packages/prompt_toolkit/key_binding/bindings'),\n",
      "                         '/home/sigi/Dokumente/kurs/kursvenv/lib/python3.8/site-packages/prompt_toolkit/layout': FileFinder('/home/sigi/Dokumente/kurs/kursvenv/lib/python3.8/site-packages/prompt_toolkit/layout'),\n",
      "                         '/home/sigi/Dokumente/kurs/kursvenv/lib/python3.8/site-packages/prompt_toolkit/lexers': FileFinder('/home/sigi/Dokumente/kurs/kursvenv/lib/python3.8/site-packages/prompt_toolkit/lexers'),\n",
      "                         '/home/sigi/Dokumente/kurs/kursvenv/lib/python3.8/site-packages/prompt_toolkit/output': FileFinder('/home/sigi/Dokumente/kurs/kursvenv/lib/python3.8/site-packages/prompt_toolkit/output'),\n",
      "                         '/home/sigi/Dokumente/kurs/kursvenv/lib/python3.8/site-packages/prompt_toolkit/shortcuts': FileFinder('/home/sigi/Dokumente/kurs/kursvenv/lib/python3.8/site-packages/prompt_toolkit/shortcuts'),\n",
      "                         '/home/sigi/Dokumente/kurs/kursvenv/lib/python3.8/site-packages/prompt_toolkit/shortcuts/progress_bar': FileFinder('/home/sigi/Dokumente/kurs/kursvenv/lib/python3.8/site-packages/prompt_toolkit/shortcuts/progress_bar'),\n",
      "                         '/home/sigi/Dokumente/kurs/kursvenv/lib/python3.8/site-packages/prompt_toolkit/styles': FileFinder('/home/sigi/Dokumente/kurs/kursvenv/lib/python3.8/site-packages/prompt_toolkit/styles'),\n",
      "                         '/home/sigi/Dokumente/kurs/kursvenv/lib/python3.8/site-packages/prompt_toolkit/widgets': FileFinder('/home/sigi/Dokumente/kurs/kursvenv/lib/python3.8/site-packages/prompt_toolkit/widgets'),\n",
      "                         '/home/sigi/Dokumente/kurs/kursvenv/lib/python3.8/site-packages/ptyprocess': FileFinder('/home/sigi/Dokumente/kurs/kursvenv/lib/python3.8/site-packages/ptyprocess'),\n",
      "                         '/home/sigi/Dokumente/kurs/kursvenv/lib/python3.8/site-packages/pygments': FileFinder('/home/sigi/Dokumente/kurs/kursvenv/lib/python3.8/site-packages/pygments'),\n",
      "                         '/home/sigi/Dokumente/kurs/kursvenv/lib/python3.8/site-packages/pygments/formatters': FileFinder('/home/sigi/Dokumente/kurs/kursvenv/lib/python3.8/site-packages/pygments/formatters'),\n",
      "                         '/home/sigi/Dokumente/kurs/kursvenv/lib/python3.8/site-packages/pygments/lexers': FileFinder('/home/sigi/Dokumente/kurs/kursvenv/lib/python3.8/site-packages/pygments/lexers'),\n",
      "                         '/home/sigi/Dokumente/kurs/kursvenv/lib/python3.8/site-packages/tornado': FileFinder('/home/sigi/Dokumente/kurs/kursvenv/lib/python3.8/site-packages/tornado'),\n",
      "                         '/home/sigi/Dokumente/kurs/kursvenv/lib/python3.8/site-packages/tornado/platform': FileFinder('/home/sigi/Dokumente/kurs/kursvenv/lib/python3.8/site-packages/tornado/platform'),\n",
      "                         '/home/sigi/Dokumente/kurs/kursvenv/lib/python3.8/site-packages/traitlets': FileFinder('/home/sigi/Dokumente/kurs/kursvenv/lib/python3.8/site-packages/traitlets'),\n",
      "                         '/home/sigi/Dokumente/kurs/kursvenv/lib/python3.8/site-packages/traitlets/config': FileFinder('/home/sigi/Dokumente/kurs/kursvenv/lib/python3.8/site-packages/traitlets/config'),\n",
      "                         '/home/sigi/Dokumente/kurs/kursvenv/lib/python3.8/site-packages/traitlets/utils': FileFinder('/home/sigi/Dokumente/kurs/kursvenv/lib/python3.8/site-packages/traitlets/utils'),\n",
      "                         '/home/sigi/Dokumente/kurs/kursvenv/lib/python3.8/site-packages/wcwidth': FileFinder('/home/sigi/Dokumente/kurs/kursvenv/lib/python3.8/site-packages/wcwidth'),\n",
      "                         '/home/sigi/Dokumente/kurs/kursvenv/lib/python3.8/site-packages/zmq': FileFinder('/home/sigi/Dokumente/kurs/kursvenv/lib/python3.8/site-packages/zmq'),\n",
      "                         '/home/sigi/Dokumente/kurs/kursvenv/lib/python3.8/site-packages/zmq/backend': FileFinder('/home/sigi/Dokumente/kurs/kursvenv/lib/python3.8/site-packages/zmq/backend'),\n",
      "                         '/home/sigi/Dokumente/kurs/kursvenv/lib/python3.8/site-packages/zmq/backend/cython': FileFinder('/home/sigi/Dokumente/kurs/kursvenv/lib/python3.8/site-packages/zmq/backend/cython'),\n",
      "                         '/home/sigi/Dokumente/kurs/kursvenv/lib/python3.8/site-packages/zmq/eventloop': FileFinder('/home/sigi/Dokumente/kurs/kursvenv/lib/python3.8/site-packages/zmq/eventloop'),\n",
      "                         '/home/sigi/Dokumente/kurs/kursvenv/lib/python3.8/site-packages/zmq/sugar': FileFinder('/home/sigi/Dokumente/kurs/kursvenv/lib/python3.8/site-packages/zmq/sugar'),\n",
      "                         '/home/sigi/Dokumente/kurs/kursvenv/lib/python3.8/site-packages/zmq/utils': FileFinder('/home/sigi/Dokumente/kurs/kursvenv/lib/python3.8/site-packages/zmq/utils'),\n",
      "                         '/usr/lib/python3.8': FileFinder('/usr/lib/python3.8'),\n",
      "                         '/usr/lib/python3.8/asyncio': FileFinder('/usr/lib/python3.8/asyncio'),\n",
      "                         '/usr/lib/python3.8/collections': FileFinder('/usr/lib/python3.8/collections'),\n",
      "                         '/usr/lib/python3.8/concurrent': FileFinder('/usr/lib/python3.8/concurrent'),\n",
      "                         '/usr/lib/python3.8/concurrent/futures': FileFinder('/usr/lib/python3.8/concurrent/futures'),\n",
      "                         '/usr/lib/python3.8/ctypes': FileFinder('/usr/lib/python3.8/ctypes'),\n",
      "                         '/usr/lib/python3.8/distutils': FileFinder('/usr/lib/python3.8/distutils'),\n",
      "                         '/usr/lib/python3.8/email': FileFinder('/usr/lib/python3.8/email'),\n",
      "                         '/usr/lib/python3.8/encodings': FileFinder('/usr/lib/python3.8/encodings'),\n",
      "                         '/usr/lib/python3.8/html': FileFinder('/usr/lib/python3.8/html'),\n",
      "                         '/usr/lib/python3.8/http': FileFinder('/usr/lib/python3.8/http'),\n",
      "                         '/usr/lib/python3.8/importlib': FileFinder('/usr/lib/python3.8/importlib'),\n",
      "                         '/usr/lib/python3.8/json': FileFinder('/usr/lib/python3.8/json'),\n",
      "                         '/usr/lib/python3.8/lib-dynload': FileFinder('/usr/lib/python3.8/lib-dynload'),\n",
      "                         '/usr/lib/python3.8/logging': FileFinder('/usr/lib/python3.8/logging'),\n",
      "                         '/usr/lib/python3.8/pydoc_data': FileFinder('/usr/lib/python3.8/pydoc_data'),\n",
      "                         '/usr/lib/python3.8/sqlite3': FileFinder('/usr/lib/python3.8/sqlite3'),\n",
      "                         '/usr/lib/python3.8/urllib': FileFinder('/usr/lib/python3.8/urllib'),\n",
      "                         '/usr/lib/python3.8/xml': FileFinder('/usr/lib/python3.8/xml'),\n",
      "                         '/usr/lib/python3.8/xml/dom': FileFinder('/usr/lib/python3.8/xml/dom'),\n",
      "                         '/usr/lib/python38.zip': None},\n",
      " 'platform': 'linux',\n",
      " 'prefix': '/home/sigi/Dokumente/kurs/kursvenv',\n",
      " 'ps1': 'In : ',\n",
      " 'ps2': '...: ',\n",
      " 'ps3': 'Out: ',\n",
      " 'pycache_prefix': None,\n",
      " 'set_asyncgen_hooks': <built-in function set_asyncgen_hooks>,\n",
      " 'set_coroutine_origin_tracking_depth': <built-in function set_coroutine_origin_tracking_depth>,\n",
      " 'setcheckinterval': <built-in function setcheckinterval>,\n",
      " 'setdlopenflags': <built-in function setdlopenflags>,\n",
      " 'setprofile': <built-in function setprofile>,\n",
      " 'setrecursionlimit': <built-in function setrecursionlimit>,\n",
      " 'setswitchinterval': <built-in function setswitchinterval>,\n",
      " 'settrace': <built-in function settrace>,\n",
      " 'stderr': <ipykernel.iostream.OutStream object at 0x7fa6036cf4c0>,\n",
      " 'stdin': <_io.TextIOWrapper name='<stdin>' mode='r' encoding='utf-8'>,\n",
      " 'stdout': <ipykernel.iostream.OutStream object at 0x7fa6036cf4f0>,\n",
      " 'thread_info': sys.thread_info(name='pthread', lock='semaphore', version='NPTL 2.31'),\n",
      " 'unraisablehook': <built-in function unraisablehook>,\n",
      " 'version': '3.8.2 (default, Jul 16 2020, 14:00:26) \\n[GCC 9.3.0]',\n",
      " 'version_info': sys.version_info(major=3, minor=8, micro=2, releaselevel='final', serial=0),\n",
      " 'warnoptions': ['ignore']}\n"
     ]
    },
    {
     "output_type": "error",
     "ename": "NameError",
     "evalue": "name '__dict__' is not defined",
     "traceback": [
      "\u001b[0;31m---------------------------------------------------------------------------\u001b[0m",
      "\u001b[0;31mNameError\u001b[0m                                 Traceback (most recent call last)",
      "\u001b[0;32m<ipython-input-2-22d2f4a5d8f4>\u001b[0m in \u001b[0;36m<module>\u001b[0;34m\u001b[0m\n\u001b[1;32m      2\u001b[0m \u001b[0;32mfrom\u001b[0m \u001b[0mpprint\u001b[0m \u001b[0;32mimport\u001b[0m \u001b[0mpprint\u001b[0m\u001b[0;34m\u001b[0m\u001b[0;34m\u001b[0m\u001b[0m\n\u001b[1;32m      3\u001b[0m \u001b[0mpprint\u001b[0m\u001b[0;34m(\u001b[0m\u001b[0msys\u001b[0m\u001b[0;34m.\u001b[0m\u001b[0m__dict__\u001b[0m\u001b[0;34m)\u001b[0m\u001b[0;34m\u001b[0m\u001b[0;34m\u001b[0m\u001b[0m\n\u001b[0;32m----> 4\u001b[0;31m \u001b[0mpprint\u001b[0m\u001b[0;34m(\u001b[0m\u001b[0m__dict__\u001b[0m\u001b[0;34m)\u001b[0m\u001b[0;34m\u001b[0m\u001b[0;34m\u001b[0m\u001b[0m\n\u001b[0m",
      "\u001b[0;31mNameError\u001b[0m: name '__dict__' is not defined"
     ]
    }
   ],
   "source": [
    "x = [23,24,34]\n",
    "from pprint import pprint\n",
    "pprint(sys.__dict__)\n"
   ]
  },
  {
   "cell_type": "code",
   "execution_count": null,
   "metadata": {},
   "outputs": [],
   "source": []
  }
 ],
 "metadata": {
  "kernelspec": {
   "display_name": "Python 3",
   "language": "python",
   "name": "python3"
  },
  "language_info": {
   "codemirror_mode": {
    "name": "ipython",
    "version": 3
   },
   "file_extension": ".py",
   "mimetype": "text/x-python",
   "name": "python",
   "nbconvert_exporter": "python",
   "pygments_lexer": "ipython3",
   "version": "3.8.2-final"
  }
 },
 "nbformat": 4,
 "nbformat_minor": 4
}