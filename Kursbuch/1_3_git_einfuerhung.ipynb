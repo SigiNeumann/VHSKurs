{
 "metadata": {
  "language_info": {
   "codemirror_mode": {
    "name": "ipython",
    "version": 3
   },
   "file_extension": ".py",
   "mimetype": "text/x-python",
   "name": "python",
   "nbconvert_exporter": "python",
   "pygments_lexer": "ipython3",
   "version": 3
  },
  "orig_nbformat": 2
 },
 "nbformat": 4,
 "nbformat_minor": 2,
 "cells": [
  {
   "source": [
    "### Git\n",
    "Git ist ein sogenanntes Versionsverwaltungssystem (Version Control System). Neben GIT gibt es noch weitere solche System (TFS Server, BitKeeper, Mercurial). In diesem Kurs benutzen wir Git da:\n",
    "* OpenSource\n",
    "* sehr stark verbreitet\n",
    "* Gute Integration in VS Code\n",
    "\n",
    "Git hat sehr viele Funktionen, die wir in diesem Rahmen nicht abdecken können. Trotzdem ist git ein gutes Tool um\n",
    "* Änderungen zu verfolgen\n",
    "* Zu sicheren Speicherpunkten zurückzukehren\n",
    "* Wichtig früh zu lernen\n",
    "\n",
    "\n",
    "Git wurde von Linus Torvald (Linux Entwickler) entwickelt und ist im Moment der Goldstandard. \n",
    "Github (alternativen Gitlab, Gitkraken, BitBucket) ist die größte Platform um Git Repositories zu hosten und gehört mittlerweile Microsoft.  \n",
    "Alle Dateien die in diesem Kurs verwendet werden könnt ihr auch mittels git auf Github beziehen. [https://github.com/SigiNeumann/VHSKurs]"
   ],
   "cell_type": "markdown",
   "metadata": {}
  },
  {
   "source": [
    "### Git init  \n",
    "Mit Git init können wir ein neues Repository (~Projektsammlung) starten  \n",
    "\n",
    "* Wir erzeugen einen Ordner und nennen ihn __TESTGIT__   \n",
    "* Danach öffnen wir einen neue Instanz von VS Code  \n",
    "* Öffenen das Terminal  \n",
    "[cmd] git init  \n",
    "__oder__\n",
    "ActivityBar (VS Code rechts) \n",
    "-> Initalize Repository  \n",
    "\n",
    "Damit haben wir unser Repository erzeugt\n"
   ],
   "cell_type": "markdown",
   "metadata": {}
  },
  {
   "source": [
    "### Commit\n",
    "Mit Commit erzeugen wir einen Speicherpunkt, zu diesem Punkt können wir jederzeit wieder zurückkehren.\n",
    "Jeder Commit braucht eine Commit Message (Nachricht) in dieser werden üblicherweise die Änderungen (kurz) zusammengefasst.  \n",
    "Jeder Commit erhält eine eindeutige ID z.b. fa413d86ed7d59feceaacd0afba8f8e14f4d90f2  \n",
    "Da diese ID nicht sehr aussagekräfig ist, ist oben genannte Message recht wichtig.\n"
   ],
   "cell_type": "markdown",
   "metadata": {}
  },
  {
   "source": [
    "### Stash (Verwerfen + Schnellspeichern)\n",
    "Wenn man nur mal was ausprobieren wollte oder einen Fehler eingebaut hat den man nicht mehr rausskriegt (vorher hats doch funktioniert). Oder man sich gerade um etwas anderes kümmern muss:  \n",
    "__cmd__ git stash  \n",
    "Git stash löscht alle Änderungen seit dem letzten Commit und speichert diese als Stash ab.  \n",
    "Via  \n",
    "__cmd__ git pop  \n",
    "können diese Änderungen wieder hergestellt werden.\n"
   ],
   "cell_type": "markdown",
   "metadata": {}
  },
  {
   "source": [
    "### Extensions\n",
    "Git verfügt über zahlreiche Optionen und integrierte Tools das man schnell den Überblick verliert. Auch ist es oft recht umständlich (für uns Normalsterbliche) im Terminal zu navigieren. Beispiele hierfür sind:  \n",
    "git log\n",
    "git diff #CommitID \n",
    "\n",
    "Diese beiden Befehle werden wunderbar mit der VSCode Extension  \n",
    "__Git History__ abgebildet\n"
   ],
   "cell_type": "markdown",
   "metadata": {}
  },
  {
   "cell_type": "code",
   "execution_count": null,
   "metadata": {},
   "outputs": [],
   "source": [
    "Clonen und pull\n",
    "Die MasterRepo liegt wie schon gesagt auf [https://github.com/SigiNeumann/VHSKurs]. Diese Repo könnt ihr auch auf euren Rechner immer aktuell halten.   \n",
    "* Macht einen neuen Ordner, z.b. pythonKurs  \n",
    "* Öffnet diesen Order mit VSCode  \n",
    "* Öffnet das Terminal  \n",
    "* im Terminal: git clone git clone https://github.com/SigiNeumann/VHSKurs.git  \n",
    "Jetzt solltet ihr den aktuellen Stand haben. Ich werde diese Repo wöchentlich, mit den Korrekturen und Ergänzungen der Vorwoche und den Stoff und Übungen der nächsten Wochen updaten. Um diese "
   ]
  }
 ]
}