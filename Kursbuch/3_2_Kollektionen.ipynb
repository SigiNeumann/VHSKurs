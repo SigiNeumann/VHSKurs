{
 "metadata": {
  "language_info": {
   "codemirror_mode": {
    "name": "ipython",
    "version": 3
   },
   "file_extension": ".py",
   "mimetype": "text/x-python",
   "name": "python",
   "nbconvert_exporter": "python",
   "pygments_lexer": "ipython3",
   "version": "3.8.2-final"
  },
  "orig_nbformat": 2,
  "kernelspec": {
   "name": "python3",
   "display_name": "Python 3",
   "language": "python"
  }
 },
 "nbformat": 4,
 "nbformat_minor": 2,
 "cells": [
  {
   "cell_type": "code",
   "execution_count": null,
   "metadata": {},
   "outputs": [],
   "source": [
    "### Listen (list, [])\n",
    "Listen sind die einfachste Art von Kollektionen. In Kollektionen können unterschiedlich Daten zusammen gespeichert werden.\n",
    "__Wichtig__ die Datentypen können unterschiedlich sein (das ist in vielen anderen Programmiersprachen nicht so)\n",
    "Bei der Initaliesierung mit Elementen werden die einzelnen Element mit __,__ getrennt.\n"
   ]
  },
  {
   "cell_type": "code",
   "execution_count": 1,
   "metadata": {},
   "outputs": [
    {
     "output_type": "stream",
     "name": "stdout",
     "text": [
      "['Bufo', 123, 'Dumdidudeldei', 1.0, True]\n"
     ]
    }
   ],
   "source": [
    "#Listen erstellung\n",
    "leereListe1 = []\n",
    "leereListe2 = list()\n",
    "#Listen mit Elementen\n",
    "meineListe = [\"Bufo\",123,\"Dumdidudeldei\",1.0, True]\n",
    "print(meineListe)\n"
   ]
  },
  {
   "cell_type": "code",
   "execution_count": null,
   "metadata": {},
   "outputs": [],
   "source": [
    "# Zugriff \n",
    "Auf Element in der Liste kann mittels der eckigen [] Klammern zugegriffen werden.\n",
    "__Achtung__ die Listen in Python sind (wie in dem meisten Programmiersprachen) auf 0 indexiert d.h. das erste Element erhält man via [0]\n",
    "\n"
   ]
  },
  {
   "cell_type": "code",
   "execution_count": 2,
   "metadata": {},
   "outputs": [
    {
     "output_type": "stream",
     "name": "stdout",
     "text": [
      "['NeuerBufo', 123, 'Dumdidudeldei', 1.0, True]\nNeuerBufo\n1.0\nTrue\n"
     ]
    }
   ],
   "source": [
    "meineListe[0]=\"NeuerBufo\"\n",
    "print(meineListe)\n",
    "das_erste_element = meineListe[0]\n",
    "das_zweite_element = meineListe[1]\n",
    "print(das_erste_element)\n",
    "das_letzte_element = meineListe[-1]\n",
    "das_vorletzte_element = meineListe[-2]\n",
    "print(das_vorletzte_element)\n",
    "print(das_letzte_element)\n",
    "\n"
   ]
  },
  {
   "cell_type": "code",
   "execution_count": null,
   "metadata": {},
   "outputs": [],
   "source": [
    "__Achtung__ Zugriff gibt's nur auf Element die es auch gibt (klingt komisch, ist aber so...). Das heißt der Index darf maximal (Länge der Liste -1 ) sein. Warum -1?\n",
    "Bzw im Fall von negativen Zugriff minimal minus(-)(Länge der Liste) "
   ]
  },
  {
   "cell_type": "code",
   "execution_count": 5,
   "metadata": {},
   "outputs": [
    {
     "output_type": "error",
     "ename": "IndexError",
     "evalue": "list index out of range",
     "traceback": [
      "\u001b[0;31m---------------------------------------------------------------------------\u001b[0m",
      "\u001b[0;31mIndexError\u001b[0m                                Traceback (most recent call last)",
      "\u001b[0;32m<ipython-input-5-5735b8e82177>\u001b[0m in \u001b[0;36m<module>\u001b[0;34m\u001b[0m\n\u001b[0;32m----> 1\u001b[0;31m \u001b[0mmeineListe\u001b[0m\u001b[0;34m[\u001b[0m\u001b[0;34m-\u001b[0m\u001b[0;36m6\u001b[0m\u001b[0;34m]\u001b[0m\u001b[0;34m\u001b[0m\u001b[0;34m\u001b[0m\u001b[0m\n\u001b[0m",
      "\u001b[0;31mIndexError\u001b[0m: list index out of range"
     ]
    }
   ],
   "source": [
    "meineListe[-6]"
   ]
  },
  {
   "cell_type": "code",
   "execution_count": null,
   "metadata": {},
   "outputs": [],
   "source": [
    "Praktischerweise gibt es einige hilfreiche eingebaute Funktionen für Listen.\n",
    "Eine davon ist len(), diese gibt die Länge der Liste zurück. \n"
   ]
  },
  {
   "cell_type": "code",
   "execution_count": 8,
   "metadata": {},
   "outputs": [
    {
     "output_type": "stream",
     "name": "stdout",
     "text": [
      "5\n0\n"
     ]
    }
   ],
   "source": [
    "laenge = len(meineListe)\n",
    "print(laenge)\n"
   ]
  },
  {
   "source": [
    "#Übung ein element tauschen:  \n",
    "liste = [\"abc\",\"cde\",\"fgh\"]  \n",
    "#Tausche letztes mit ersten Element\n"
   ],
   "cell_type": "code",
   "metadata": {},
   "execution_count": null,
   "outputs": []
  },
  {
   "cell_type": "code",
   "execution_count": null,
   "metadata": {},
   "outputs": [],
   "source": [
    "Teilebereiche(Slices) einer Liste.\n",
    "Mittels __:__ innerhalb der eckigen Klammmern kann auf Teilbereich der Liste zugegriffen werden.\n",
    "Der Integer vor dem Doppelpunkt gibt den Beginn des Teilbereiches, der dahinter das Ende.[Anfang:Ende]\n",
    "Wie beim Einzelzugriff darauf achten, dass Listen 0 indexiert sind.\n",
    "Beispiel:"
   ]
  },
  {
   "cell_type": "code",
   "execution_count": 2,
   "metadata": {},
   "outputs": [
    {
     "output_type": "stream",
     "name": "stdout",
     "text": [
      "[1, 2, 3, 4]\n"
     ]
    }
   ],
   "source": [
    "meineListe = [0,1,2,3,4,5,6,7,8]\n",
    "teilListe = meineListe[1:5]\n",
    "print(teilListe)"
   ]
  },
  {
   "cell_type": "code",
   "execution_count": null,
   "metadata": {},
   "outputs": [],
   "source": [
    "Benötigt man Teilbereich vom Anfang oder nur bis Ende kann einer der beiden Integer weggelassen werden.\n",
    "Beispiel:"
   ]
  },
  {
   "cell_type": "code",
   "execution_count": 3,
   "metadata": {},
   "outputs": [
    {
     "output_type": "stream",
     "name": "stdout",
     "text": [
      "[0, 1, 2, 3]\n[5, 6, 7, 8]\n"
     ]
    }
   ],
   "source": [
    "anfang = meineListe[:4]\n",
    "ende = meineListe[5:]\n",
    "print(anfang)\n",
    "print(ende)"
   ]
  },
  {
   "cell_type": "code",
   "execution_count": null,
   "metadata": {},
   "outputs": [],
   "source": [
    "Die Schrittweite oder ein dritter Operator.  \n",
    "Teilbereichszugriffe können auch mit einen dritten Operator (2 Doppelpunkte) verwendet werden. Dieser gibt die Schrittweite vor\n",
    "\n"
   ]
  },
  {
   "cell_type": "code",
   "execution_count": 7,
   "metadata": {},
   "outputs": [
    {
     "output_type": "stream",
     "name": "stdout",
     "text": [
      "[0, 2]\n[0, 2, 4, 6, 8]\n[1, 3, 5, 7]\n"
     ]
    }
   ],
   "source": [
    "halber_anfang = meineListe[:4:2]\n",
    "print(halber_anfang)\n",
    "jedes_zweite_gerade = meineListe[::2]\n",
    "jedes_zweite_ungerade = meineListe[1::2]\n",
    "print(jedes_zweite_gerade)\n",
    "print(jedes_zweite_ungerade)"
   ]
  },
  {
   "cell_type": "code",
   "execution_count": null,
   "metadata": {},
   "outputs": [],
   "source": [
    "###Iteration\n",
    "Listen können in for schleifen verwendet werden. Hierbei wird jedes Element in der Liste einmal innerhalb der Schleife aufgerufen"
   ]
  },
  {
   "cell_type": "code",
   "execution_count": 4,
   "metadata": {},
   "outputs": [
    {
     "output_type": "stream",
     "name": "stdout",
     "text": [
      "0\n1\n2\n3\n4\n5\n6\n7\n8\n"
     ]
    }
   ],
   "source": [
    "for element in meineListe:\n",
    "    print(element)"
   ]
  },
  {
   "cell_type": "code",
   "execution_count": null,
   "metadata": {},
   "outputs": [],
   "source": [
    "Listen Funktionen(Methods)\n",
    "Der Typ __Liste__ verfügt über einige Methoden. Methoden sind wie Funktionen, nur das sie einen Objekttypen zugeordnet sind. Aufgerufen werden sie mit __.__ . Objekte,Klassen und Methoden werden wir in einen späteren Kapitel ausführlich behandeln.\n",
    "append(dranhängen, letzte Position),clear(löschen),count(zählen),copy(kopieren),extend(erweitern),index(),insert(einfügen nach Position),pop(entfernen nach Position),remove(),reverse()(umdrehen),sort()sortieen"
   ]
  },
  {
   "cell_type": "code",
   "execution_count": 24,
   "metadata": {},
   "outputs": [
    {
     "output_type": "stream",
     "name": "stdout",
     "text": [
      "['EinElement']\n['EinElement', 1, 'Bufo', 2, 3, 'Bufo', 4, 5, 'Bufo']\nKopie ['EinElement', 1, 'Bufo', 2, 3, 'Bufo', 4, 5, 'Bufo']\n2\nEnfernt wurde:Bufo an Position/Index:2\n4\nEnfernt wurde:Bufo an Position/Index:4\n6\nEnfernt wurde:Bufo an Position/Index:6\n['EinElement', 1, 2, 3, 4, 5]\nBufo ist jetzt an Postion4\n['EinElement', 1, 2, 3, 'Bufo', 4, 5, 'nix', 'nix']\n['EinElement', 1, 2, 3, 'Bufo', 4, 5, 'nix']\n['nix', 5, 4, 'Bufo', 3, 2, 1, 'EinElement']\nEin Fehler: '<' not supported between instances of 'int' and 'str'\nListe ohne Strings[5, 4, 3, 2, 1]\nList ist jetzt soriert [1, 2, 3, 4, 5]\n"
     ]
    }
   ],
   "source": [
    "eineListe = [] # Liste ist leer\n",
    "#Mit .append können wir ein Element an letzter Stelle einfügen\n",
    "eineListe.append(\"EinElement\")\n",
    "print(eineListe)\n",
    "#Mit .extend können wir die Liste um eine andere erweitern\n",
    "eineListe.extend([1,\"Bufo\",2,3,\"Bufo\",4,5,\"Bufo\"])\n",
    "print(eineListe)\n",
    "#Mit .copy können wir die Liste kopieren\n",
    "eineKopie = eineListe.copy()\n",
    "print(f\"Kopie {eineKopie}\")\n",
    "count = eineListe.count(\"Bufo\")\n",
    "\n",
    "while(eineListe.count(\"Bufo\")>0):#Mit count erfahren wir wieviele gleich Element in der Liste sind\n",
    "    index = eineListe.index(\"Bufo\")#Mit index erfahrren wir die Position des ersten Element mit dem Suchkriterium\n",
    "    print(index)\n",
    "    einBufo = eineListe.pop(index)#Mit .pop enternen wir das Element und erhalten es als Ergebnis und können es\n",
    "    print(f\"Enfernt wurde:{einBufo} an Position/Index:{index}\")\n",
    "print(eineListe)\n",
    "#mit insert kann eine Element an eine bestimmte Position eingefügt werden\n",
    "meinBufo = \"Bufo\"\n",
    "eineListe.insert(4,meinBufo)# Mit insert fügen wir an einer bestimmten Postionen ein Element ein\n",
    "index = eineListe.index(meinBufo)\n",
    "print(f\"{meinBufo} ist jetzt an Postion{index}\")\n",
    "#Mit .remove können wir ein bestimmtes element löschen\n",
    "eineListe.append(\"nix\")\n",
    "eineListe.append(\"nix\")\n",
    "print(eineListe)\n",
    "eineListe.remove(\"nix\")\n",
    "print(eineListe)#Allerdings wird nur das erste gefundene entfernt\n",
    "#mit reverse können wir die reihenfolge der liste umkehren\n",
    "eineListe.reverse()\n",
    "print(eineListe)\n",
    "#eineListe.sort() mit .sort können wir eine Liste sortieren. Allerdings wenn die Elemente innerhalb der Liste verglichen werden können\n",
    "try: #Das Schauen wir uns später mal an\n",
    "    eineListe.sort()\n",
    "except TypeError as e:#Später\n",
    "    print(f\"Ein Fehler: {e}\")\n",
    "for element in eineListe:\n",
    "    if type(element)!= int:\n",
    "        eineListe.remove(element)\n",
    "print(f\"Liste ohne Strings{eineListe}\")\n",
    "eineListe.sort()\n",
    "print(f\"List ist jetzt soriert {eineListe}\")\n",
    "\n"
   ]
  },
  {
   "cell_type": "code",
   "execution_count": null,
   "metadata": {},
   "outputs": [],
   "source": [
    "Eingebaute Funktionen sorted()(sortieren), reversed()(umgedreht), len()(laenge),any()(irgendeins),all()(alle??),max()(maximum),min()(minimum),sum()(summe)\n",
    "Anders als die MemberFunktion veränderen die BuiltIn Methoden nicht die Listen sondern "
   ]
  },
  {
   "cell_type": "code",
   "execution_count": 2,
   "metadata": {},
   "outputs": [
    {
     "output_type": "stream",
     "name": "stdout",
     "text": [
      "Sortiert:[1, 2, 3, 4, 5, 6, 8]\nReversed:[6, 5, 8, 4, 2, 3, 1]\nMaximum: 8\nMinimum: 1\nSumme: 29\n"
     ]
    }
   ],
   "source": [
    "beispielListe = [1,3,2,4,8,5,6]\n",
    "sortierteListe = sorted(beispielListe)\n",
    "revListe = list(reversed(beispielListe))#!!! Achtung...\n",
    "\n",
    "print(f\"Sortiert:{sortierteListe}\")\n",
    "print(f\"Reversed:{revListe}\")\n",
    "print()\n",
    "all([i<10 for i in beispielListe])#???\n",
    "any([i==2] for i in beispielListe)#???\n",
    "print(f\"Maximum: {max(beispielListe)}\")\n",
    "print(f\"Minimum: {min(beispielListe)}\")\n",
    "print(f\"Summe: {sum(beispielListe)}\")"
   ]
  },
  {
   "cell_type": "code",
   "execution_count": null,
   "metadata": {},
   "outputs": [],
   "source": [
    "### in\n",
    "Mit __in__ kann überprüft werden ob ein bestimmtes Element in einer Liste vorhanden ist."
   ]
  },
  {
   "cell_type": "code",
   "execution_count": null,
   "metadata": {},
   "outputs": [],
   "source": [
    "kleine_liste = [1,2,3,4]\n",
    "if 4 in kleine_liste:\n",
    "    print(\"4 in liste\")\n",
    "if 5 in kleine_liste:\n",
    "    print(\"5 in liste\")\n",
    "#Geht natürlich auch mit \n"
   ]
  },
  {
   "cell_type": "code",
   "execution_count": null,
   "metadata": {},
   "outputs": [],
   "source": [
    "### Equivalenz\n",
    "strings z.b. \"Hallo Welt\" sind auch Kollektionen (keine Listen) einige Operationen funktionieren auch bei strings. Allerdings sind können bei strings keine Zuweisung auf index erfolgen(siehe unten). Strings verfügen aber über weitere nützliche Funktionalität, die wir uns in einem späteren Kapitel anschauen werden.\n"
   ]
  },
  {
   "cell_type": "code",
   "execution_count": 1,
   "metadata": {},
   "outputs": [
    {
     "output_type": "stream",
     "name": "stdout",
     "text": [
      "1\n"
     ]
    }
   ],
   "source": [
    "wort = \"Welt\"\n",
    "erster_buchstabe = wort[0]\n",
    "e_index= wort.index(\"e\")\n",
    "print(e_index)"
   ]
  },
  {
   "cell_type": "code",
   "execution_count": 2,
   "metadata": {},
   "outputs": [
    {
     "output_type": "error",
     "ename": "TypeError",
     "evalue": "'str' object does not support item assignment",
     "traceback": [
      "\u001b[0;31m---------------------------------------------------------------------------\u001b[0m",
      "\u001b[0;31mTypeError\u001b[0m                                 Traceback (most recent call last)",
      "\u001b[0;32m<ipython-input-2-7587b1fec30c>\u001b[0m in \u001b[0;36m<module>\u001b[0;34m\u001b[0m\n\u001b[1;32m      1\u001b[0m \u001b[0mwort2\u001b[0m \u001b[0;34m=\u001b[0m \u001b[0;34m\"Hallo\"\u001b[0m\u001b[0;34m\u001b[0m\u001b[0;34m\u001b[0m\u001b[0m\n\u001b[0;32m----> 2\u001b[0;31m \u001b[0mwort2\u001b[0m\u001b[0;34m[\u001b[0m\u001b[0;36m1\u001b[0m\u001b[0;34m]\u001b[0m\u001b[0;34m=\u001b[0m\u001b[0;34m\"b\"\u001b[0m\u001b[0;34m\u001b[0m\u001b[0;34m\u001b[0m\u001b[0m\n\u001b[0m",
      "\u001b[0;31mTypeError\u001b[0m: 'str' object does not support item assignment"
     ]
    }
   ],
   "source": [
    "wort2 = \"Hallo\"\n",
    "wort2[1]=\"b\"\n"
   ]
  },
  {
   "cell_type": "code",
   "execution_count": null,
   "metadata": {},
   "outputs": [],
   "source": [
    "Jedoch kann jeder String recht einfach in eine Liste umgewandelt werden."
   ]
  },
  {
   "cell_type": "code",
   "execution_count": 6,
   "metadata": {},
   "outputs": [
    {
     "output_type": "stream",
     "name": "stdout",
     "text": [
      "Hbllo\n"
     ]
    }
   ],
   "source": [
    "wort = \"Hallo\"\n",
    "liste = [c for c in wort]\n",
    "liste[1]=\"b\"\n",
    "anderes_wort= \"\".join(liste)\n",
    "print(anderes_wort)"
   ]
  },
  {
   "cell_type": "code",
   "execution_count": null,
   "metadata": {},
   "outputs": [],
   "source": []
  }
 ]
}