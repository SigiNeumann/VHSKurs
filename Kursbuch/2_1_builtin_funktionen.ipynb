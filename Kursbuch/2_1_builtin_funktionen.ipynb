{
 "metadata": {
  "language_info": {
   "codemirror_mode": {
    "name": "ipython",
    "version": 3
   },
   "file_extension": ".py",
   "mimetype": "text/x-python",
   "name": "python",
   "nbconvert_exporter": "python",
   "pygments_lexer": "ipython3",
   "version": "3.8.2-final"
  },
  "orig_nbformat": 2,
  "kernelspec": {
   "name": "python3",
   "display_name": "Python 3",
   "language": "python"
  }
 },
 "nbformat": 4,
 "nbformat_minor": 2,
 "cells": [
  {
   "cell_type": "code",
   "execution_count": null,
   "metadata": {},
   "outputs": [],
   "source": [
    "##Eingebaute Funktionen  Built-in Functions (Teil 1)\n",
    "Python liefert einige \"eingebaute\" Funktionen dh. diese stehen ohne Zutun zur Verfügung (wir lernen später noch wie man Funktionen importier)\n",
    "Ein paar dieser Funktionen haben wir schon kennengelernt z.B. print()\n",
    "Heute schaun wir uns noch ein paar weitere an.\n"
   ]
  },
  {
   "cell_type": "code",
   "execution_count": null,
   "metadata": {},
   "outputs": [],
   "source": [
    "print(\"print ist eine eingebaute Funktion die text auf der Konsole ausgibt\")"
   ]
  },
  {
   "cell_type": "code",
   "execution_count": null,
   "metadata": {},
   "outputs": [],
   "source": [
    "### help() und help(something)  \n",
    ">> LiveDemo"
   ]
  },
  {
   "cell_type": "code",
   "execution_count": null,
   "metadata": {},
   "outputs": [],
   "source": [
    "### type()\n",
    "Gibt den Typen eines Objektes aus\n",
    "\n"
   ]
  },
  {
   "cell_type": "code",
   "execution_count": 1,
   "metadata": {},
   "outputs": [
    {
     "output_type": "stream",
     "name": "stdout",
     "text": [
      "<class 'int'>\n<class 'int'>\nb ist ein Integer\n"
     ]
    }
   ],
   "source": [
    "a = 24\n",
    "b = 23\n",
    "ty = type(a)\n",
    "print(ty)\n",
    "print(type(b))# Funktionen dürfen auch geschachtelt werden.\n",
    "if type(b)==int:\n",
    "    print(\"b ist ein Integer\")"
   ]
  },
  {
   "cell_type": "code",
   "execution_count": null,
   "metadata": {},
   "outputs": [],
   "source": [
    "### input() Eingabe über Console (bzw. stdin)   \n",
    "Diese Funktion ist blockieren d.h. hier wartet das Programm bis vom User etwas eingegeben wurde UND mit der Eingabetaste abgeschlossen wurde\n",
    "\n"
   ]
  },
  {
   "cell_type": "code",
   "execution_count": 1,
   "metadata": {},
   "outputs": [
    {
     "output_type": "stream",
     "name": "stdout",
     "text": [
      "Enter your name\n",
      "Hallo Sigi\n"
     ]
    }
   ],
   "source": [
    "print(\"Enter your name\")\n",
    "name = input()\n",
    "print(\"Hallo \"+ name)"
   ]
  },
  {
   "cell_type": "code",
   "execution_count": null,
   "metadata": {},
   "outputs": [],
   "source": [
    "### float(), int()\n"
   ]
  },
  {
   "cell_type": "code",
   "execution_count": 2,
   "metadata": {},
   "outputs": [
    {
     "output_type": "stream",
     "name": "stdout",
     "text": [
      "Gib ein zahl ein\n",
      "<class 'str'>\n",
      "12.0\n"
     ]
    }
   ],
   "source": [
    "print(\"Gib ein zahl ein\")\n",
    "zahl = input()\n",
    "print(type(zahl))\n",
    "zahl = float(zahl)\n",
    "print(zahl)\n"
   ]
  },
  {
   "cell_type": "code",
   "execution_count": null,
   "metadata": {},
   "outputs": [],
   "source": [
    "print(\"Gib ein zahl ein\")\n",
    "zahl = input()\n",
    "print(type(zahl))\n",
    "zahl = float(zahl)\n",
    "print(type(zahl))\n",
    "zahl = int(zahl)\n",
    "print(type(zahl))"
   ]
  },
  {
   "cell_type": "code",
   "execution_count": null,
   "metadata": {},
   "outputs": [],
   "source": [
    "### str() Umwandlung in eine Zeichenkette   \n",
    "wandelt __jedes__ Objekt in eine Zeichenkette um\n",
    "\n"
   ]
  },
  {
   "cell_type": "code",
   "execution_count": 12,
   "metadata": {},
   "outputs": [
    {
     "output_type": "stream",
     "name": "stdout",
     "text": [
      "6913\n12345679\n"
     ]
    }
   ],
   "source": [
    "a = 1234\n",
    "b = 5679\n",
    "ab = a + b\n",
    "str_ab = str(a)+str(b)\n",
    "print(ab)\n",
    "print(str_ab)"
   ]
  },
  {
   "cell_type": "code",
   "execution_count": null,
   "metadata": {},
   "outputs": [],
   "source": []
  }
 ]
}