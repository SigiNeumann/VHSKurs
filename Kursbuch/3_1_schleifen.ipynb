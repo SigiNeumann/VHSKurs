{
 "metadata": {
  "language_info": {
   "codemirror_mode": {
    "name": "ipython",
    "version": 3
   },
   "file_extension": ".py",
   "mimetype": "text/x-python",
   "name": "python",
   "nbconvert_exporter": "python",
   "pygments_lexer": "ipython3",
   "version": "3.8.2-final"
  },
  "orig_nbformat": 2,
  "kernelspec": {
   "name": "python3",
   "display_name": "Python 3",
   "language": "python"
  }
 },
 "nbformat": 4,
 "nbformat_minor": 2,
 "cells": [
  {
   "cell_type": "code",
   "execution_count": null,
   "metadata": {},
   "outputs": [],
   "source": [
    "# Schleifen (loops)\n",
    "Schleifen sind ein Hilfsmittel mit dem Teile eines Programms wiederholt werden durchlaufen werden.\n",
    "In Python verwendet man for und while loops. Beides sind Schlüsselwörter\n"
   ]
  },
  {
   "cell_type": "code",
   "execution_count": null,
   "metadata": {},
   "outputs": [],
   "source": [
    "### range()  \n",
    "Für die nächsten Beispiele verwenden wir die Funktion range(). Dies gibt uns einen Bereich. In der einfachsten Variante mit nur einem Parameter z.b. range(4) wären alle Ganzzahlen(Integer) von 0-4 enthalten.\n",
    "Range erstellt also Listen von Ganzzahlen (Listen werden wir uns im Detail noch anschauen)\n",
    "\n",
    "### for loop\n",
    "Der Syntax für for schleifen ist wie folgt.\n",
    "for ELEMENT in Liste: \n",
    "&nbsp;&nbsp;&nbsp;&nbsp;CODE\n",
    "\n",
    "Man kann es wie folgt lesen: \"Für jedes element in der Liste.\"\n",
    "\n",
    "Innerhalb der Einrückung ist das aktuelle Elemente der List verfügbare\n"
   ]
  },
  {
   "cell_type": "code",
   "execution_count": 1,
   "metadata": {},
   "outputs": [
    {
     "output_type": "stream",
     "name": "stdout",
     "text": [
      "0\n1\n2\n3\n4\n5\n6\n7\n8\n9\n"
     ]
    }
   ],
   "source": [
    "for i in range(10):\n",
    "    print(i)"
   ]
  },
  {
   "cell_type": "code",
   "execution_count": 2,
   "metadata": {},
   "outputs": [
    {
     "output_type": "stream",
     "name": "stdout",
     "text": [
      "2\n3\n4\n5\n6\n7\n8\n9\n10\n11\n12\n13\n14\n15\n16\n"
     ]
    }
   ],
   "source": [
    "for i in range(2,17):\n",
    "    print(i)"
   ]
  },
  {
   "cell_type": "code",
   "execution_count": 3,
   "metadata": {},
   "outputs": [
    {
     "output_type": "stream",
     "name": "stdout",
     "text": [
      "2\n5\n8\n11\n14\n"
     ]
    }
   ],
   "source": [
    "for i in range(2,17,3):\n",
    "    print(i)"
   ]
  },
  {
   "cell_type": "code",
   "execution_count": null,
   "metadata": {},
   "outputs": [],
   "source": [
    "### range(startwert,endwert,Schrittgroesse)"
   ]
  },
  {
   "cell_type": "code",
   "execution_count": 6,
   "metadata": {},
   "outputs": [
    {
     "output_type": "stream",
     "name": "stdout",
     "text": [
      "0\n1\n4\n9\n16\n25\n36\n49\n64\n81\n100\n121\n144\n169\n196\n225\n256\n289\n324\n361\n400\n441\n484\n529\n576\n625\n676\n729\n784\n841\n900\n961\n1024\n1089\n1156\n1225\n1296\n1369\n1444\n1521\n1600\n1681\n1764\n1849\n1936\n2025\n2116\n2209\n2304\n2401\n2500\n2601\n2704\n2809\n2916\n3025\n3136\n3249\n3364\n3481\n3600\n3721\n3844\n3969\n4096\n4225\n4356\n4489\n4624\n4761\n4900\n5041\n5184\n5329\n5476\n5625\n5776\n5929\n6084\n6241\n6400\n6561\n6724\n6889\n7056\n7225\n7396\n7569\n7744\n7921\n8100\n8281\n8464\n8649\n8836\n9025\n9216\n9409\n9604\n9801\n"
     ]
    }
   ],
   "source": [
    "def quadrat(x:float)->float:\n",
    "    return x**2.0\n",
    "for i in range(0,100):\n",
    "    print(quadrat(i))"
   ]
  },
  {
   "cell_type": "code",
   "execution_count": null,
   "metadata": {},
   "outputs": [],
   "source": [
    "###Verschachtelung von schleifen\n",
    "Schleifen dürfen ineinander geschachtelte werden d.h. jede schleife darf weiter schleifen innerhalb haben.\n",
    "__Achtung__, nie zu viele. Das kann u.u. lange dauern und den Code unleserlich machen.\n"
   ]
  },
  {
   "cell_type": "code",
   "execution_count": 2,
   "metadata": {},
   "outputs": [
    {
     "output_type": "stream",
     "name": "stdout",
     "text": [
      "i:1, j:1\n1x1 ist 1\ni:1, j:2\n1x2 ist 2\ni:1, j:3\n1x3 ist 3\ni:1, j:4\n1x4 ist 4\ni:1, j:5\n1x5 ist 5\ni:1, j:6\n1x6 ist 6\ni:1, j:7\n1x7 ist 7\ni:1, j:8\n1x8 ist 8\ni:1, j:9\n1x9 ist 9\ni:2, j:1\n2x1 ist 2\ni:2, j:2\n2x2 ist 4\ni:2, j:3\n2x3 ist 6\ni:2, j:4\n2x4 ist 8\ni:2, j:5\n2x5 ist 10\ni:2, j:6\n2x6 ist 12\ni:2, j:7\n2x7 ist 14\ni:2, j:8\n2x8 ist 16\ni:2, j:9\n2x9 ist 18\ni:3, j:1\n3x1 ist 3\ni:3, j:2\n3x2 ist 6\ni:3, j:3\n3x3 ist 9\ni:3, j:4\n3x4 ist 12\ni:3, j:5\n3x5 ist 15\ni:3, j:6\n3x6 ist 18\ni:3, j:7\n3x7 ist 21\ni:3, j:8\n3x8 ist 24\ni:3, j:9\n3x9 ist 27\ni:4, j:1\n4x1 ist 4\ni:4, j:2\n4x2 ist 8\ni:4, j:3\n4x3 ist 12\ni:4, j:4\n4x4 ist 16\ni:4, j:5\n4x5 ist 20\ni:4, j:6\n4x6 ist 24\ni:4, j:7\n4x7 ist 28\ni:4, j:8\n4x8 ist 32\ni:4, j:9\n4x9 ist 36\ni:5, j:1\n5x1 ist 5\ni:5, j:2\n5x2 ist 10\ni:5, j:3\n5x3 ist 15\ni:5, j:4\n5x4 ist 20\ni:5, j:5\n5x5 ist 25\ni:5, j:6\n5x6 ist 30\ni:5, j:7\n5x7 ist 35\ni:5, j:8\n5x8 ist 40\ni:5, j:9\n5x9 ist 45\ni:6, j:1\n6x1 ist 6\ni:6, j:2\n6x2 ist 12\ni:6, j:3\n6x3 ist 18\ni:6, j:4\n6x4 ist 24\ni:6, j:5\n6x5 ist 30\ni:6, j:6\n6x6 ist 36\ni:6, j:7\n6x7 ist 42\ni:6, j:8\n6x8 ist 48\ni:6, j:9\n6x9 ist 54\ni:7, j:1\n7x1 ist 7\ni:7, j:2\n7x2 ist 14\ni:7, j:3\n7x3 ist 21\ni:7, j:4\n7x4 ist 28\ni:7, j:5\n7x5 ist 35\ni:7, j:6\n7x6 ist 42\ni:7, j:7\n7x7 ist 49\ni:7, j:8\n7x8 ist 56\ni:7, j:9\n7x9 ist 63\ni:8, j:1\n8x1 ist 8\ni:8, j:2\n8x2 ist 16\ni:8, j:3\n8x3 ist 24\ni:8, j:4\n8x4 ist 32\ni:8, j:5\n8x5 ist 40\ni:8, j:6\n8x6 ist 48\ni:8, j:7\n8x7 ist 56\ni:8, j:8\n8x8 ist 64\ni:8, j:9\n8x9 ist 72\ni:9, j:1\n9x1 ist 9\ni:9, j:2\n9x2 ist 18\ni:9, j:3\n9x3 ist 27\ni:9, j:4\n9x4 ist 36\ni:9, j:5\n9x5 ist 45\ni:9, j:6\n9x6 ist 54\ni:9, j:7\n9x7 ist 63\ni:9, j:8\n9x8 ist 72\ni:9, j:9\n9x9 ist 81\n"
     ]
    }
   ],
   "source": [
    "for i in range(1,10):\n",
    "    for j in range(1,10):\n",
    "        print(f\"i:{i}, j:{j}\")\n",
    "        print(f\"{i}x{j} ist {i*j}\")"
   ]
  },
  {
   "cell_type": "code",
   "execution_count": null,
   "metadata": {},
   "outputs": [],
   "source": [
    "### Schleifen \"steuern \" break and continue\n",
    "Mit __break__ kann eine Schleife verlassen werden, dies wird üblicherweise zusammen mit einer Kondition(if,elif) verwendet.\n",
    "__Achtung__ ! Im nächsten Beispiel wird ein __else__ verwendet. Dies bezieht sich auf das __for__ (Einrückung)"
   ]
  },
  {
   "cell_type": "code",
   "execution_count": 6,
   "metadata": {},
   "outputs": [
    {
     "output_type": "stream",
     "name": "stdout",
     "text": [
      "Aktueller Buchstabe b\nAktueller Buchstabe u\nAktueller Buchstabe f\nAktueller Buchstabe o\nAktueller Buchstabe  \nEingabe enthält a\nSchleife wurde verlassen\n"
     ]
    }
   ],
   "source": [
    "eingabe = input()\n",
    "for buchstabe in eingabe:\n",
    "    if buchstabe == \"a\":#Einen einzelnes Zeichen nennt man Character\n",
    "        print(\"Eingabe enthält a\")\n",
    "        break\n",
    "    print(f\"Aktueller Buchstabe {buchstabe}\")\n",
    "else:\n",
    "    print(\"Es wurde kein a gefunden\")\n",
    "print(\"Schleife wurde verlassen\")"
   ]
  },
  {
   "cell_type": "code",
   "execution_count": null,
   "metadata": {},
   "outputs": [],
   "source": [
    "Mittels __continue__ wird zum nächsten element in der schleife gesprungen. Code der sonst in der Schleife ausgeführt worden wäre wird übersprungen."
   ]
  },
  {
   "cell_type": "code",
   "execution_count": 8,
   "metadata": {},
   "outputs": [
    {
     "output_type": "stream",
     "name": "stdout",
     "text": [
      "Aktueller Buchstabe: h\nAktueller Buchstabe: a\nAktueller Buchstabe: l\nAktueller Buchstabe: l\nAktueller Buchstabe: o\nLeerzeichen gefunden\nAktueller Buchstabe: d\nAktueller Buchstabe: a\nAktueller Buchstabe: s\nLeerzeichen gefunden\nAktueller Buchstabe: i\nAktueller Buchstabe: s\nAktueller Buchstabe: t\nLeerzeichen gefunden\nAktueller Buchstabe: e\nAktueller Buchstabe: i\nAktueller Buchstabe: n\nLeerzeichen gefunden\nAktueller Buchstabe: S\nAktueller Buchstabe: a\nAktueller Buchstabe: t\nAktueller Buchstabe: z\nLeerzeichen gefunden\nAktueller Buchstabe: o\nAktueller Buchstabe: h\nAktueller Buchstabe: n\nAktueller Buchstabe: e\nLeerzeichen gefunden\nAktueller Buchstabe: P\nAktueller Buchstabe: u\nAktueller Buchstabe: n\nAktueller Buchstabe: k\nAktueller Buchstabe: t\nLeerzeichen gefunden\nAktueller Buchstabe: u\nAktueller Buchstabe: n\nAktueller Buchstabe: d\nLeerzeichen gefunden\nAktueller Buchstabe: K\nAktueller Buchstabe: o\nAktueller Buchstabe: m\nAktueller Buchstabe: m\nAktueller Buchstabe: a\nhallodasisteinSatzohnePunktundKomma\n"
     ]
    }
   ],
   "source": [
    "eingabe = input()\n",
    "ohneLeerzeichen=\"\"\n",
    "for character in eingabe:\n",
    "    if character == \" \":\n",
    "        print(f\"Leerzeichen gefunden\")\n",
    "        continue\n",
    "    print(f\"Aktueller Buchstabe: {character}\")\n",
    "    ohneLeerzeichen =ohneLeerzeichen+character\n",
    "print(ohneLeerzeichen)\n",
    "\n",
    "\n"
   ]
  },
  {
   "cell_type": "code",
   "execution_count": null,
   "metadata": {},
   "outputs": [],
   "source": [
    "### While schleifen (während)\n",
    "While Schleifen haben eine Abbruchbedingung. Im Gegensatz zu for schleifen brauchen sie kein Iterable (liste,range) sondern nur ein Conditional.\n",
    "\n"
   ]
  },
  {
   "cell_type": "code",
   "execution_count": 12,
   "metadata": {},
   "outputs": [
    {
     "output_type": "stream",
     "name": "stdout",
     "text": [
      "Bitte Password eingeben\n",
      "Bitte Password eingeben\n",
      "Bitte Password eingeben\n",
      "Bitte Password eingeben\n",
      "schleife erfolgreich verlassen\n"
     ]
    }
   ],
   "source": [
    "passwort_erforderlich = True\n",
    "while(passwort_erforderlich):\n",
    "    print(\"Bitte Passwort eingeben\")\n",
    "    passwort = input()\n",
    "    if passwort == \"Sigi123\":\n",
    "        print(\"Passwort richtig\")\n",
    "        passwort_erforderlich = False\n",
    "print(\"schleife erfolgreich verlassen\")"
   ]
  },
  {
   "cell_type": "code",
   "execution_count": null,
   "metadata": {},
   "outputs": [],
   "source": []
  }
 ]
}